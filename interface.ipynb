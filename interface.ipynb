{
 "cells": [
  {
   "cell_type": "markdown",
   "metadata": {},
   "source": [
    "start docker with postgres"
   ]
  },
  {
   "cell_type": "code",
   "execution_count": null,
   "metadata": {},
   "outputs": [],
   "source": [
    "# docker-compose up -d\n",
    "# docker-compose down;rm -rf postgres-data\n",
    "\n",
    "# docker exec -it bd_project_postgres_1 bash"
   ]
  },
  {
   "cell_type": "code",
   "execution_count": 1,
   "metadata": {},
   "outputs": [
    {
     "name": "stdout",
     "output_type": "stream",
     "text": [
      "\u001b[33mDEPRECATION: Configuring installation scheme with distutils config files is deprecated and will no longer work in the near future. If you are using a Homebrew or Linuxbrew Python, please see discussion at https://github.com/Homebrew/homebrew-core/issues/76621\u001b[0m\n",
      "Requirement already satisfied: psycopg2 in /usr/local/lib/python3.9/site-packages (2.9.2)\n"
     ]
    }
   ],
   "source": [
    "! pip3 install psycopg2"
   ]
  },
  {
   "cell_type": "code",
   "execution_count": 2,
   "metadata": {},
   "outputs": [],
   "source": [
    "import psycopg2"
   ]
  },
  {
   "cell_type": "code",
   "execution_count": 3,
   "metadata": {},
   "outputs": [
    {
     "name": "stdout",
     "output_type": "stream",
     "text": [
      "\u001b[33mDEPRECATION: Configuring installation scheme with distutils config files is deprecated and will no longer work in the near future. If you are using a Homebrew or Linuxbrew Python, please see discussion at https://github.com/Homebrew/homebrew-core/issues/76621\u001b[0m\n",
      "Requirement already satisfied: pandas in /usr/local/lib/python3.9/site-packages (1.3.5)\n",
      "Requirement already satisfied: python-dateutil>=2.7.3 in /usr/local/lib/python3.9/site-packages (from pandas) (2.8.2)\n",
      "Requirement already satisfied: numpy>=1.17.3 in /usr/local/lib/python3.9/site-packages (from pandas) (1.21.5)\n",
      "Requirement already satisfied: pytz>=2017.3 in /usr/local/lib/python3.9/site-packages (from pandas) (2021.3)\n",
      "Requirement already satisfied: six>=1.5 in /usr/local/lib/python3.9/site-packages (from python-dateutil>=2.7.3->pandas) (1.16.0)\n"
     ]
    }
   ],
   "source": [
    "! pip3 install pandas"
   ]
  },
  {
   "cell_type": "code",
   "execution_count": 4,
   "metadata": {},
   "outputs": [],
   "source": [
    "import pandas as pd"
   ]
  },
  {
   "cell_type": "code",
   "execution_count": 5,
   "metadata": {},
   "outputs": [],
   "source": [
    "def open_conn():\n",
    "    conn = psycopg2.connect(dbname='postgres', \n",
    "                        user='postgres', \n",
    "                        password='postgres', \n",
    "                        host='localhost', \n",
    "                        port='5432') \n",
    "    cursor = conn.cursor()\n",
    "    return conn, cursor\n"
   ]
  },
  {
   "cell_type": "markdown",
   "metadata": {},
   "source": [
    "# посмотрим на таблицы"
   ]
  },
  {
   "cell_type": "code",
   "execution_count": 6,
   "metadata": {},
   "outputs": [
    {
     "name": "stdout",
     "output_type": "stream",
     "text": [
      "TABLE NAME:  country\n",
      "              0                  1\n",
      "0    country_id            integer\n",
      "1  country_name  character varying\n",
      "TABLE NAME:  store\n",
      "          0                  1\n",
      "0  store_id            integer\n",
      "1      name  character varying\n",
      "2   city_id            integer\n",
      "TABLE NAME:  city\n",
      "            0                  1\n",
      "0     city_id            integer\n",
      "1   city_name  character varying\n",
      "2  country_id            integer\n",
      "TABLE NAME:  sale\n",
      "            0                            1\n",
      "0     sale_id                      integer\n",
      "1      amount                      numeric\n",
      "2   date_sale  timestamp without time zone\n",
      "3  product_id                      integer\n",
      "4     user_id                      integer\n",
      "5    store_id                      integer\n",
      "TABLE NAME:  product\n",
      "            0                  1\n",
      "0  product_id            integer\n",
      "1        name  character varying\n",
      "TABLE NAME:  status_name\n",
      "                0                  1\n",
      "0  status_name_id            integer\n",
      "1     status_name  character varying\n",
      "TABLE NAME:  users\n",
      "         0                  1\n",
      "0  user_id            integer\n",
      "1     name  character varying\n",
      "TABLE NAME:  order_status\n",
      "                 0                            1\n",
      "0  order_status_id                      integer\n",
      "1        update_at  timestamp without time zone\n",
      "2          sale_id                      integer\n",
      "3   status_name_id                      integer\n"
     ]
    }
   ],
   "source": [
    "# cursor.execute('SELECT current_database();')\n",
    "\n",
    "\n",
    "conn, cursor = open_conn()\n",
    "\n",
    "cursor.execute(\"\"\"SELECT *\n",
    "FROM pg_catalog.pg_tables\n",
    "WHERE schemaname != 'pg_catalog' AND \n",
    "    schemaname != 'information_schema';\n",
    "\"\"\")\n",
    "\n",
    "tables = cursor.fetchall()\n",
    "for t in tables:\n",
    "    print(\"TABLE NAME: \", t[1])\n",
    "    cursor.execute(\"\"\"SELECT column_name, data_type FROM information_schema.columns \n",
    "    WHERE table_name = %s;\"\"\", (t[1],))\n",
    "    info = cursor.fetchall()\n",
    "    print(pd.DataFrame(info))\n",
    "\n",
    "cursor.close()\n",
    "conn.close()"
   ]
  },
  {
   "cell_type": "markdown",
   "metadata": {},
   "source": [
    "# иллюстрация для ввода данных\n",
    "\n",
    "1) вывожу последние 5 товаров\n",
    "\n",
    "2) добавляю еще  товары\n",
    "\n",
    "3) вывожу последние 5 товаров и вижу что все получилось"
   ]
  },
  {
   "cell_type": "markdown",
   "metadata": {},
   "source": [
    "сгенеренные данные в таблице"
   ]
  },
  {
   "cell_type": "code",
   "execution_count": 7,
   "metadata": {},
   "outputs": [
    {
     "name": "stdout",
     "output_type": "stream",
     "text": [
      "    0           1\n",
      "0  30  Product 30\n",
      "1  29  Product 29\n",
      "2  28  Product 28\n",
      "3  27  Product 27\n",
      "4  26  Product 26\n"
     ]
    }
   ],
   "source": [
    "conn, cursor = open_conn()\n",
    "\n",
    "cursor.execute(\"\"\"SELECT *\n",
    "FROM product ORDER BY product_id DESC LIMIT 5;\n",
    "\"\"\")\n",
    "\n",
    "countries = cursor.fetchall()\n",
    "print(pd.DataFrame(countries))\n",
    "\n",
    "cursor.close()\n",
    "conn.close()"
   ]
  },
  {
   "cell_type": "markdown",
   "metadata": {},
   "source": [
    "еще три штуки "
   ]
  },
  {
   "cell_type": "code",
   "execution_count": 10,
   "metadata": {},
   "outputs": [],
   "source": [
    "conn, cursor = open_conn()\n",
    "cursor.execute(\"INSERT INTO product (name) VALUES(%s)\", (\"BEST PRODUCT\",))\n",
    "cursor.execute(\"INSERT INTO product (name) VALUES(%s)\", (\"YET ANOTHER\",))\n",
    "cursor.execute(\"INSERT INTO product (name) VALUES(%s)\", (\"WORST OF ALL\",))\n",
    "\n",
    "conn.commit()\n",
    "\n",
    "cursor.close()\n",
    "conn.close()"
   ]
  },
  {
   "cell_type": "markdown",
   "metadata": {},
   "source": [
    "они появились "
   ]
  },
  {
   "cell_type": "code",
   "execution_count": 93,
   "metadata": {},
   "outputs": [
    {
     "name": "stdout",
     "output_type": "stream",
     "text": [
      "    0             1\n",
      "0  31  BEST PRODUCT\n",
      "1  30    Product 30\n",
      "2  29    Product 29\n",
      "3  28    Product 28\n",
      "4  27    Product 27\n"
     ]
    }
   ],
   "source": [
    "conn, cursor = open_conn()\n",
    "\n",
    "cursor.execute(\"\"\"SELECT *\n",
    "FROM product ORDER BY product_id DESC LIMIT 5;\n",
    "\"\"\")\n",
    "\n",
    "countries = cursor.fetchall()\n",
    "print(pd.DataFrame(countries))\n",
    "\n",
    "cursor.close()\n",
    "conn.close()"
   ]
  },
  {
   "cell_type": "markdown",
   "metadata": {},
   "source": [
    "# пример апдейта"
   ]
  },
  {
   "cell_type": "markdown",
   "metadata": {},
   "source": [
    "триггер на апдейт в таблице order status поля status name id - меняется статус -> обновляется поле update_at"
   ]
  },
  {
   "cell_type": "code",
   "execution_count": 81,
   "metadata": {},
   "outputs": [],
   "source": [
    "conn, cursor = open_conn()\n",
    "\n",
    "cursor.execute(\n",
    "\"\"\"CREATE OR REPLACE FUNCTION status_upd()\n",
    "  RETURNS TRIGGER \n",
    "  LANGUAGE PLPGSQL\n",
    "  AS\n",
    "$$\n",
    "BEGIN\n",
    "\tIF NEW.status_name_id <> OLD.status_name_id THEN\n",
    "\t\t UPDATE order_status SET update_at = now() WHERE status_name_id = NEW.status_name_id;\n",
    "\tEND IF;\n",
    "\n",
    "\tRETURN NEW;\n",
    "END;\n",
    "$$\"\"\")\n",
    "\n",
    "\n",
    "cursor.execute(\"\"\"CREATE TRIGGER status_upd\n",
    "  AFTER UPDATE\n",
    "  ON order_status\n",
    "  FOR EACH ROW\n",
    "  EXECUTE PROCEDURE status_upd();\"\"\")\n",
    "\n",
    "conn.commit()\n",
    "\n",
    "cursor.close()\n",
    "conn.close()"
   ]
  },
  {
   "cell_type": "code",
   "execution_count": 82,
   "metadata": {},
   "outputs": [
    {
     "name": "stdout",
     "output_type": "stream",
     "text": [
      "     0                          1    2  3\n",
      "0  200 2020-01-11 19:57:43.351428  200  4\n",
      "1  199 2019-03-05 16:32:16.485399  199  3\n",
      "2  198 2020-01-06 22:28:07.758725  198  5\n",
      "3  197 2019-04-17 21:04:43.185830  197  2\n",
      "4  196 2019-11-28 15:34:06.948986  196  3\n"
     ]
    }
   ],
   "source": [
    "conn, cursor = open_conn()\n",
    "\n",
    "cursor.execute(\"\"\"SELECT *\n",
    "FROM order_status ORDER BY order_status_id DESC LIMIT 5;\n",
    "\"\"\")\n",
    "\n",
    "print(pd.DataFrame(cursor.fetchall()))\n",
    "\n",
    "cursor.close()\n",
    "conn.close()"
   ]
  },
  {
   "cell_type": "markdown",
   "metadata": {},
   "source": [
    "update statusa"
   ]
  },
  {
   "cell_type": "code",
   "execution_count": 85,
   "metadata": {},
   "outputs": [
    {
     "name": "stdout",
     "output_type": "stream",
     "text": [
      "     0                          1    2  3\n",
      "0  200 2020-01-11 19:57:43.351428  200  4\n",
      "1  199 2019-03-05 16:32:16.485399  199  3\n",
      "2  198 2020-01-06 22:28:07.758725  198  5\n",
      "3  197 2019-04-17 21:04:43.185830  197  2\n",
      "4  196 2021-12-24 12:26:10.438979  196  1\n"
     ]
    }
   ],
   "source": [
    "conn, cursor = open_conn()\n",
    "\n",
    "# у id 196 (посл строка) status_name_id == 3. поменяю на 1\n",
    "cursor.execute(\n",
    "\"\"\"UPDATE order_status\n",
    "SET status_name_id = 1 \n",
    "WHERE order_status_id = 196;\"\"\")\n",
    "\n",
    "cursor.execute(\"\"\"SELECT *\n",
    "FROM order_status ORDER BY order_status_id DESC LIMIT 5;\n",
    "\"\"\")\n",
    "\n",
    "print(pd.DataFrame(cursor.fetchall()))\n",
    "\n",
    "cursor.close()\n",
    "conn.close()"
   ]
  },
  {
   "cell_type": "markdown",
   "metadata": {},
   "source": [
    "в последней строке поменялся таймстемп"
   ]
  },
  {
   "cell_type": "markdown",
   "metadata": {},
   "source": [
    "#  SELECT с несколькими (от трех) таблицами в условии выборки "
   ]
  },
  {
   "cell_type": "markdown",
   "metadata": {},
   "source": [
    "возьму 3 таблицы\n",
    "\n",
    "product, order status, sale\n"
   ]
  },
  {
   "cell_type": "code",
   "execution_count": null,
   "metadata": {},
   "outputs": [],
   "source": [
    "# TABLE NAME:  product\n",
    "#             0                  1\n",
    "# 0  product_id            integer\n",
    "# 1        name  character varying\n",
    "\n",
    "\n",
    "# TABLE NAME:  sale\n",
    "#             0                            1\n",
    "# 0     sale_id                      integer\n",
    "# 1      amount                      numeric\n",
    "# 2   date_sale  timestamp without time zone\n",
    "# 3  product_id                      integer\n",
    "# 4     user_id                      integer\n",
    "# 5    store_id                      integer\n",
    "\n",
    "# TABLE NAME:  order_status\n",
    "#                  0                            1\n",
    "# 0  order_status_id                      integer\n",
    "# 1        update_at  timestamp without time zone\n",
    "# 2          sale_id                      integer\n",
    "# 3   status_name_id                      integer"
   ]
  },
  {
   "cell_type": "markdown",
   "metadata": {},
   "source": [
    "выведем продажи с именем продукта и статусом заказа, сумму заказа, и все отсотировнное по таймстемпу заказа - самые последние сверху"
   ]
  },
  {
   "cell_type": "code",
   "execution_count": 86,
   "metadata": {},
   "outputs": [
    {
     "name": "stdout",
     "output_type": "stream",
     "text": [
      "                           0         1           2              3\n",
      "0 2020-01-25 04:02:41.959237  4229.253  Product 17  Status Name 4\n",
      "1 2020-01-23 19:37:31.044184  5995.307  Product 19  Status Name 2\n",
      "2 2020-01-22 20:25:35.646844  9964.515  Product 28  Status Name 4\n",
      "3 2020-01-18 13:20:33.497018  1022.764  Product 26  Status Name 4\n",
      "4 2020-01-16 20:54:13.804815  5851.623  Product 24  Status Name 2\n",
      "5 2020-01-15 23:07:13.786958  8844.789  Product 27  Status Name 2\n",
      "6 2020-01-09 01:36:07.398691  3240.453  Product 19  Status Name 3\n",
      "7 2020-01-08 13:43:30.257524  8819.007  Product 11  Status Name 4\n",
      "8 2020-01-05 23:23:31.410946  3892.098   Product 7  Status Name 3\n",
      "9 2020-01-03 23:33:56.117435  5766.241  Product 29  Status Name 4\n"
     ]
    }
   ],
   "source": [
    "conn, cursor = open_conn()\n",
    "\n",
    "cursor.execute(\"\"\"SELECT sale.date_sale, sale.amount, pjoin.name, statusnamejoin.status_name \n",
    "FROM sale left join product pjoin using(product_id) \n",
    "left join order_status using(sale_id) \n",
    "left join status_name statusnamejoin using(status_name_id) \n",
    "ORDER BY date_sale DESC LIMIT 10;\n",
    "\"\"\")\n",
    "\n",
    "print(pd.DataFrame(cursor.fetchall()))\n",
    "\n",
    "cursor.close()\n",
    "conn.close()"
   ]
  },
  {
   "cell_type": "markdown",
   "metadata": {},
   "source": [
    "# Вложенный SELECT\n"
   ]
  },
  {
   "cell_type": "markdown",
   "metadata": {},
   "source": [
    "цена и названия товаров, которые дешевле среднего"
   ]
  },
  {
   "cell_type": "code",
   "execution_count": 87,
   "metadata": {},
   "outputs": [
    {
     "name": "stdout",
     "output_type": "stream",
     "text": [
      "          0           1\n",
      "0  9983.971  Product 23\n",
      "1  9964.515  Product 28\n",
      "2  9895.892  Product 25\n",
      "3  9891.268  Product 21\n",
      "4  9886.374   Product 4\n",
      "5  9787.341  Product 14\n",
      "6  9766.884   Product 9\n",
      "7  9721.821   Product 6\n",
      "8  9704.381   Product 2\n",
      "9  9666.835  Product 27\n"
     ]
    }
   ],
   "source": [
    "conn, cursor = open_conn()\n",
    "\n",
    "cursor.execute(\"\"\"SELECT sale.amount, pjoin.name\n",
    "FROM sale left join product pjoin using(product_id) \n",
    "where sale.amount > (SELECT AVG(amount) FROM sale)\n",
    "ORDER BY sale.amount DESC LIMIT 10;\n",
    "\"\"\")\n",
    "\n",
    "print(pd.DataFrame(cursor.fetchall()))\n",
    "\n",
    "cursor.close()\n",
    "conn.close()"
   ]
  },
  {
   "cell_type": "markdown",
   "metadata": {},
   "source": [
    "в каком городе + стране успешнее всего продажи"
   ]
  },
  {
   "cell_type": "code",
   "execution_count": 108,
   "metadata": {},
   "outputs": [
    {
     "name": "stdout",
     "output_type": "stream",
     "text": [
      "            0        1          2\n",
      "0  245571.817   City 3  Country 1\n",
      "1  192120.676   City 7  Country 1\n",
      "2  153570.551   City 1  Country 4\n",
      "3  147605.921   City 8  Country 2\n",
      "4   89247.607   City 9  Country 2\n",
      "5   68660.137   City 4  Country 3\n",
      "6   64296.464   City 2  Country 1\n",
      "7   43507.663   City 6  Country 4\n",
      "8   12096.086  City 10  Country 2\n"
     ]
    }
   ],
   "source": [
    "# store, city, country\n",
    "\n",
    "conn, cursor = open_conn()\n",
    "\n",
    "cursor.execute(\"\"\"SELECT SUM(sale.amount) as aggrsum, cityjoin.city_name, countryjoin.country_name\n",
    "FROM sale left join store storejoin using(store_id) \n",
    "left join city cityjoin using(city_id) \n",
    "left join country countryjoin using(country_id) \n",
    "GROUP BY cityjoin.city_name, countryjoin.country_name ORDER BY aggrsum DESC LIMIT 10;\n",
    "\"\"\")\n",
    "\n",
    "print(pd.DataFrame(cursor.fetchall()))\n",
    "\n",
    "cursor.close()\n",
    "conn.close()"
   ]
  },
  {
   "cell_type": "markdown",
   "metadata": {},
   "source": [
    "топ тех, кто больше всех нам заплатил. аггрегации"
   ]
  },
  {
   "cell_type": "markdown",
   "metadata": {},
   "source": [
    "sale, user"
   ]
  },
  {
   "cell_type": "code",
   "execution_count": 88,
   "metadata": {},
   "outputs": [
    {
     "name": "stdout",
     "output_type": "stream",
     "text": [
      "           0        1\n",
      "0  41157.454  User 38\n",
      "1  40691.812   User 7\n",
      "2  38827.026  User 13\n",
      "3  38800.132  User 49\n",
      "4  36890.627   User 1\n",
      "5  33668.162   User 8\n",
      "6  32631.851   User 2\n",
      "7  29248.804  User 16\n",
      "8  29186.188  User 44\n",
      "9  28928.729  User 48\n"
     ]
    }
   ],
   "source": [
    "conn, cursor = open_conn()\n",
    "\n",
    "cursor.execute(\"\"\"SELECT SUM(sale.amount) as aggrsum, userjoin.name FROM sale \n",
    "left join users userjoin using(user_id) \n",
    "GROUP BY userjoin.name ORDER BY aggrsum DESC LIMIT 10;\"\"\")\n",
    "\n",
    "print(pd.DataFrame(cursor.fetchall()))\n",
    "\n",
    "cursor.close()\n",
    "conn.close()"
   ]
  },
  {
   "cell_type": "markdown",
   "metadata": {},
   "source": [
    "\n",
    "\n",
    "\n",
    "удаление\n",
    "\n"
   ]
  },
  {
   "cell_type": "markdown",
   "metadata": {},
   "source": [
    "решили убрать из ассортимента все товары которые никто ни разу не купил ))"
   ]
  },
  {
   "cell_type": "code",
   "execution_count": 98,
   "metadata": {},
   "outputs": [
    {
     "name": "stdout",
     "output_type": "stream",
     "text": [
      "    0           1\n",
      "0  30  Product 30\n",
      "1  29  Product 29\n",
      "2  28  Product 28\n",
      "3  27  Product 27\n",
      "4  26  Product 26\n"
     ]
    }
   ],
   "source": [
    "conn, cursor = open_conn()\n",
    "\n",
    "cursor.execute(\"\"\"SELECT *\n",
    "FROM product ORDER BY product_id DESC LIMIT 5;\n",
    "\"\"\")\n",
    "\n",
    "countries = cursor.fetchall()\n",
    "print(pd.DataFrame(countries))\n",
    "\n",
    "cursor.close()\n",
    "conn.close()"
   ]
  },
  {
   "cell_type": "code",
   "execution_count": 109,
   "metadata": {},
   "outputs": [
    {
     "name": "stdout",
     "output_type": "stream",
     "text": [
      "   0\n",
      "0  0\n"
     ]
    }
   ],
   "source": [
    "# DROP TABLE IF EXISTS users; \n",
    "\n",
    "conn, cursor = open_conn()\n",
    "\n",
    "cursor.execute(\"\"\"select count(product_id) from product WHERE product_id NOT IN (SELECT product_id FROM sale);\"\"\")\n",
    "print(pd.DataFrame(cursor.fetchall()))\n",
    "\n",
    "cursor.execute(\"\"\"DELETE FROM product WHERE product_id NOT IN (SELECT product_id FROM sale);\"\"\")\n",
    "\n",
    "conn.commit()\n",
    "\n",
    "# print(pd.DataFrame(cursor.fetchall()))\n",
    "\n",
    "cursor.close()\n",
    "conn.close()"
   ]
  },
  {
   "cell_type": "code",
   "execution_count": null,
   "metadata": {},
   "outputs": [],
   "source": [
    "conn, cursor = open_conn()\n",
    "\n",
    "cursor.execute(\"\"\"SELECT *\n",
    "FROM product ORDER BY product_id DESC LIMIT 5;\n",
    "\"\"\")\n",
    "\n",
    "countries = cursor.fetchall()\n",
    "print(pd.DataFrame(countries))\n",
    "\n",
    "cursor.close()\n",
    "conn.close()"
   ]
  }
 ],
 "metadata": {
  "interpreter": {
   "hash": "aee8b7b246df8f9039afb4144a1f6fd8d2ca17a180786b69acc140d282b71a49"
  },
  "kernelspec": {
   "display_name": "Python 3.9.7 64-bit",
   "language": "python",
   "name": "python3"
  },
  "language_info": {
   "codemirror_mode": {
    "name": "ipython",
    "version": 3
   },
   "file_extension": ".py",
   "mimetype": "text/x-python",
   "name": "python",
   "nbconvert_exporter": "python",
   "pygments_lexer": "ipython3",
   "version": "3.9.9"
  },
  "orig_nbformat": 4
 },
 "nbformat": 4,
 "nbformat_minor": 2
}
